{
 "cells": [
  {
   "cell_type": "markdown",
   "id": "ac3be855-8cf3-4fa9-bc9c-692b5b9561d6",
   "metadata": {},
   "source": [
    "# Introduction\n",
    "This dataset represents Bulk tissue expression RNA-Seq samples from GTEx Analysis V10 release.\n",
    "\n",
    "\n",
    "The input files were found at [https://www.gtexportal.org/home/downloads/adult-gtex/bulk_tissue_expression]\n",
    "\n",
    "# Libraries\n",
    "Import the necessary libraries"
   ]
  },
  {
   "cell_type": "code",
   "execution_count": 1,
   "id": "da0b6985-6d75-42b8-9b4a-a4317c684e41",
   "metadata": {},
   "outputs": [
    {
     "name": "stdout",
     "output_type": "stream",
     "text": [
      "0.11.4\n"
     ]
    }
   ],
   "source": [
    "import numpy as np\n",
    "import pandas as pd\n",
    "import anndata as ad\n",
    "from scipy.sparse import csr_matrix\n",
    "print(ad.__version__)\n",
    "from tqdm import tqdm"
   ]
  },
  {
   "cell_type": "markdown",
   "id": "a67344d6",
   "metadata": {},
   "source": [
    "# Import Gene/Transcript TPMs \n",
    "Import the gene expression data from gTEX. \n",
    "\n",
    "```bash\n",
    "# Gene Expression Transcripts Per Million (TPM) from RNASeQCv2.4.2.\n",
    "pixi run wget -P gtex_bulk_tissue_expression https://storage.googleapis.com/adult-gtex/bulk-gex/v10/rna-seq/GTEx_Analysis_v10_RNASeQCv2.4.2_gene_tpm.gct.gz\n",
    "```\n",
    "\n",
    "* The first two columns contain the gene/transcript IDs and a description\n",
    "* The values are a matrix of 19616 tissue sample IDs as named in each column by 59033 genes as named in each row from RNASeQCv2.4.2."
   ]
  },
  {
   "cell_type": "code",
   "execution_count": 2,
   "id": "09f58b64",
   "metadata": {},
   "outputs": [],
   "source": [
    "\n",
    "genes_f = \"gtex_bulk_tissue_expression/GTEx_Analysis_v10_RNASeQCv2.4.2_gene_tpm.gct.gz\""
   ]
  },
  {
   "cell_type": "markdown",
   "id": "087dae64",
   "metadata": {},
   "source": [
    "first get the gene/transcript meta data from the quantification files"
   ]
  },
  {
   "cell_type": "code",
   "execution_count": 3,
   "id": "833ccc70",
   "metadata": {},
   "outputs": [
    {
     "name": "stderr",
     "output_type": "stream",
     "text": [
      "Loading data: 100%|██████████| 60/60.0 [00:24<00:00,  2.48it/s]\n"
     ]
    }
   ],
   "source": [
    "# nrows = 1000\n",
    "nrows = None\n",
    "chunkSize = 1000\n",
    "if nrows:\n",
    "    genes_meta_df = pd.read_csv(\n",
    "        genes_f, \n",
    "        sep=\"\\t\", skiprows=2, nrows=nrows,\n",
    "        usecols=[0,1], compression='gzip')\n",
    "else:\n",
    "    total_iterations = np.ceil(59036 / chunkSize)\n",
    "    genes_meta_df = pd.concat(\n",
    "        [chunk for chunk in tqdm(pd.read_csv(genes_f, sep=\"\\t\", skiprows=2, usecols=[0,1], compression='gzip', chunksize=chunkSize), desc='Loading data', total=total_iterations)]\n",
    "    )\n",
    "genes_meta_df.set_index('Name', inplace=True)"
   ]
  },
  {
   "cell_type": "markdown",
   "id": "2ce6a432",
   "metadata": {},
   "source": [
    "then get the TPMs from the quantification files"
   ]
  },
  {
   "cell_type": "code",
   "execution_count": 4,
   "id": "84b23f93",
   "metadata": {},
   "outputs": [
    {
     "name": "stderr",
     "output_type": "stream",
     "text": [
      "Loading data: 100%|██████████| 60/60.0 [02:21<00:00,  2.36s/it]\n"
     ]
    }
   ],
   "source": [
    "\n",
    "if nrows:\n",
    "    genes_counts_df = pd.read_csv(\n",
    "        genes_f, \n",
    "        sep=\"\\t\", skiprows=2, nrows=nrows,\n",
    "        usecols=range(2,2+19616), compression='gzip', dtype=np.float64)\n",
    "else:\n",
    "    genes_counts_df = pd.concat(\n",
    "        [chunk for chunk in tqdm(pd.read_csv(genes_f, sep=\"\\t\", skiprows=2, usecols=range(2,2+19616), compression='gzip', dtype=np.float64, chunksize=chunkSize), desc='Loading data', total=total_iterations)]\n",
    "    )"
   ]
  },
  {
   "cell_type": "code",
   "execution_count": 5,
   "id": "24bd8365",
   "metadata": {},
   "outputs": [
    {
     "data": {
      "text/plain": [
       "0    0.000000\n",
       "1    9.678340\n",
       "2    0.000000\n",
       "3    0.073473\n",
       "4    0.000000\n",
       "Name: GTEX-1117F-0226-SM-5GZZ7, dtype: float64"
      ]
     },
     "execution_count": 5,
     "metadata": {},
     "output_type": "execute_result"
    }
   ],
   "source": [
    "genes_counts_df.loc[:,\"GTEX-1117F-0226-SM-5GZZ7\"].head()"
   ]
  },
  {
   "cell_type": "markdown",
   "id": "d15cfdfc",
   "metadata": {},
   "source": [
    "# Import meta data for the gene/transcripts"
   ]
  },
  {
   "cell_type": "code",
   "execution_count": 6,
   "id": "b69c6c79",
   "metadata": {},
   "outputs": [
    {
     "data": {
      "text/plain": [
       "{'gene_id': 'ENSG00000223972.5',\n",
       " 'transcript_id': 'ENSG00000223972.5',\n",
       " 'gene_type': 'transcribed_unprocessed_pseudogene'}"
      ]
     },
     "execution_count": 6,
     "metadata": {},
     "output_type": "execute_result"
    }
   ],
   "source": [
    "def parse_gtf_attributes(attr_string):\n",
    "    attributes = {}\n",
    "    for item in attr_string.strip().split(';'):\n",
    "        if item.strip():\n",
    "            parts = item.strip().split(' ', 1) # Split only on the first space\n",
    "            if len(parts) == 2:\n",
    "                key = parts[0].strip()\n",
    "                value = parts[1].strip().strip('\"') # Remove quotes\n",
    "                attributes[key] = value\n",
    "    return attributes\n",
    "parse_gtf_attributes('gene_id \"ENSG00000223972.5\"; transcript_id \"ENSG00000223972.5\"; gene_type \"transcribed_unprocessed_pseudogene\"')"
   ]
  },
  {
   "cell_type": "code",
   "execution_count": 7,
   "id": "98383d2e",
   "metadata": {},
   "outputs": [
    {
     "name": "stdout",
     "output_type": "stream",
     "text": [
      "Number of genes in metadata: 59033\n",
      "Number of genes in gtf: 59033\n"
     ]
    },
    {
     "data": {
      "text/html": [
       "<div>\n",
       "<style scoped>\n",
       "    .dataframe tbody tr th:only-of-type {\n",
       "        vertical-align: middle;\n",
       "    }\n",
       "\n",
       "    .dataframe tbody tr th {\n",
       "        vertical-align: top;\n",
       "    }\n",
       "\n",
       "    .dataframe thead th {\n",
       "        text-align: right;\n",
       "    }\n",
       "</style>\n",
       "<table border=\"1\" class=\"dataframe\">\n",
       "  <thead>\n",
       "    <tr style=\"text-align: right;\">\n",
       "      <th></th>\n",
       "      <th>Description</th>\n",
       "      <th>seqname</th>\n",
       "      <th>source</th>\n",
       "      <th>feature</th>\n",
       "      <th>start</th>\n",
       "      <th>end</th>\n",
       "      <th>score</th>\n",
       "      <th>strand</th>\n",
       "      <th>frame</th>\n",
       "      <th>attribute</th>\n",
       "      <th>transcript_id</th>\n",
       "      <th>gene_type</th>\n",
       "      <th>gene_name</th>\n",
       "      <th>transcript_type</th>\n",
       "      <th>transcript_name</th>\n",
       "    </tr>\n",
       "  </thead>\n",
       "  <tbody>\n",
       "    <tr>\n",
       "      <th>ENSG00000223972.5</th>\n",
       "      <td>DDX11L1</td>\n",
       "      <td>chr1</td>\n",
       "      <td>HAVANA</td>\n",
       "      <td>gene</td>\n",
       "      <td>11869</td>\n",
       "      <td>14403</td>\n",
       "      <td>.</td>\n",
       "      <td>+</td>\n",
       "      <td>.</td>\n",
       "      <td>gene_id \"ENSG00000223972.5\"; transcript_id \"EN...</td>\n",
       "      <td>ENSG00000223972.5</td>\n",
       "      <td>transcribed_unprocessed_pseudogene</td>\n",
       "      <td>DDX11L1</td>\n",
       "      <td>transcribed_unprocessed_pseudogene</td>\n",
       "      <td>DDX11L1</td>\n",
       "    </tr>\n",
       "    <tr>\n",
       "      <th>ENSG00000227232.5</th>\n",
       "      <td>WASH7P</td>\n",
       "      <td>chr1</td>\n",
       "      <td>HAVANA</td>\n",
       "      <td>gene</td>\n",
       "      <td>14410</td>\n",
       "      <td>29553</td>\n",
       "      <td>.</td>\n",
       "      <td>-</td>\n",
       "      <td>.</td>\n",
       "      <td>gene_id \"ENSG00000227232.5\"; transcript_id \"EN...</td>\n",
       "      <td>ENSG00000227232.5</td>\n",
       "      <td>unprocessed_pseudogene</td>\n",
       "      <td>WASH7P</td>\n",
       "      <td>unprocessed_pseudogene</td>\n",
       "      <td>WASH7P</td>\n",
       "    </tr>\n",
       "    <tr>\n",
       "      <th>ENSG00000278267.1</th>\n",
       "      <td>MIR6859-1</td>\n",
       "      <td>chr1</td>\n",
       "      <td>ENSEMBL</td>\n",
       "      <td>gene</td>\n",
       "      <td>17369</td>\n",
       "      <td>17436</td>\n",
       "      <td>.</td>\n",
       "      <td>-</td>\n",
       "      <td>.</td>\n",
       "      <td>gene_id \"ENSG00000278267.1\"; transcript_id \"EN...</td>\n",
       "      <td>ENSG00000278267.1</td>\n",
       "      <td>miRNA</td>\n",
       "      <td>MIR6859-1</td>\n",
       "      <td>miRNA</td>\n",
       "      <td>MIR6859-1</td>\n",
       "    </tr>\n",
       "    <tr>\n",
       "      <th>ENSG00000243485.5</th>\n",
       "      <td>MIR1302-2HG</td>\n",
       "      <td>chr1</td>\n",
       "      <td>HAVANA</td>\n",
       "      <td>gene</td>\n",
       "      <td>29571</td>\n",
       "      <td>31109</td>\n",
       "      <td>.</td>\n",
       "      <td>+</td>\n",
       "      <td>.</td>\n",
       "      <td>gene_id \"ENSG00000243485.5\"; transcript_id \"EN...</td>\n",
       "      <td>ENSG00000243485.5</td>\n",
       "      <td>lncRNA</td>\n",
       "      <td>MIR1302-2HG</td>\n",
       "      <td>lncRNA</td>\n",
       "      <td>MIR1302-2HG</td>\n",
       "    </tr>\n",
       "    <tr>\n",
       "      <th>ENSG00000237613.2</th>\n",
       "      <td>FAM138A</td>\n",
       "      <td>chr1</td>\n",
       "      <td>HAVANA</td>\n",
       "      <td>gene</td>\n",
       "      <td>34554</td>\n",
       "      <td>36081</td>\n",
       "      <td>.</td>\n",
       "      <td>-</td>\n",
       "      <td>.</td>\n",
       "      <td>gene_id \"ENSG00000237613.2\"; transcript_id \"EN...</td>\n",
       "      <td>ENSG00000237613.2</td>\n",
       "      <td>lncRNA</td>\n",
       "      <td>FAM138A</td>\n",
       "      <td>lncRNA</td>\n",
       "      <td>FAM138A</td>\n",
       "    </tr>\n",
       "  </tbody>\n",
       "</table>\n",
       "</div>"
      ],
      "text/plain": [
       "                   Description seqname   source feature  start    end score  \\\n",
       "ENSG00000223972.5      DDX11L1    chr1   HAVANA    gene  11869  14403     .   \n",
       "ENSG00000227232.5       WASH7P    chr1   HAVANA    gene  14410  29553     .   \n",
       "ENSG00000278267.1    MIR6859-1    chr1  ENSEMBL    gene  17369  17436     .   \n",
       "ENSG00000243485.5  MIR1302-2HG    chr1   HAVANA    gene  29571  31109     .   \n",
       "ENSG00000237613.2      FAM138A    chr1   HAVANA    gene  34554  36081     .   \n",
       "\n",
       "                  strand frame  \\\n",
       "ENSG00000223972.5      +     .   \n",
       "ENSG00000227232.5      -     .   \n",
       "ENSG00000278267.1      -     .   \n",
       "ENSG00000243485.5      +     .   \n",
       "ENSG00000237613.2      -     .   \n",
       "\n",
       "                                                           attribute  \\\n",
       "ENSG00000223972.5  gene_id \"ENSG00000223972.5\"; transcript_id \"EN...   \n",
       "ENSG00000227232.5  gene_id \"ENSG00000227232.5\"; transcript_id \"EN...   \n",
       "ENSG00000278267.1  gene_id \"ENSG00000278267.1\"; transcript_id \"EN...   \n",
       "ENSG00000243485.5  gene_id \"ENSG00000243485.5\"; transcript_id \"EN...   \n",
       "ENSG00000237613.2  gene_id \"ENSG00000237613.2\"; transcript_id \"EN...   \n",
       "\n",
       "                       transcript_id                           gene_type  \\\n",
       "ENSG00000223972.5  ENSG00000223972.5  transcribed_unprocessed_pseudogene   \n",
       "ENSG00000227232.5  ENSG00000227232.5              unprocessed_pseudogene   \n",
       "ENSG00000278267.1  ENSG00000278267.1                               miRNA   \n",
       "ENSG00000243485.5  ENSG00000243485.5                              lncRNA   \n",
       "ENSG00000237613.2  ENSG00000237613.2                              lncRNA   \n",
       "\n",
       "                     gene_name                     transcript_type  \\\n",
       "ENSG00000223972.5      DDX11L1  transcribed_unprocessed_pseudogene   \n",
       "ENSG00000227232.5       WASH7P              unprocessed_pseudogene   \n",
       "ENSG00000278267.1    MIR6859-1                               miRNA   \n",
       "ENSG00000243485.5  MIR1302-2HG                              lncRNA   \n",
       "ENSG00000237613.2      FAM138A                              lncRNA   \n",
       "\n",
       "                  transcript_name  \n",
       "ENSG00000223972.5         DDX11L1  \n",
       "ENSG00000227232.5          WASH7P  \n",
       "ENSG00000278267.1       MIR6859-1  \n",
       "ENSG00000243485.5     MIR1302-2HG  \n",
       "ENSG00000237613.2         FAM138A  "
      ]
     },
     "execution_count": 7,
     "metadata": {},
     "output_type": "execute_result"
    }
   ],
   "source": [
    "#from gtfparse import read_gtf\n",
    "\n",
    "# returns GTF with essential columns such as \"feature\", \"seqname\", \"start\", \"end\"\n",
    "# alongside the names of any optional keys which appeared in the attribute column\n",
    "gtf_df = pd.read_csv(\"gtex_reference/gencode.v39.GRCh38.genes.gtf\", sep=\"\\t\", comment=\"#\", header=None, dtype=str)\n",
    "gtf_df.columns = [\"seqname\", \"source\", \"feature\", \"start\", \"end\", \"score\", \"strand\", \"frame\", \"attribute\"]\n",
    "gene_gtf_df = gtf_df[gtf_df[\"feature\"] == \"gene\"].copy()\n",
    "add_columns = ['gene_id', 'transcript_id', 'gene_type', 'gene_name', 'transcript_type', 'transcript_name']\n",
    "gene_gtf_df.loc[:, add_columns] = None\n",
    "\n",
    "for index, row in gene_gtf_df.iterrows():\n",
    "    attributes_dict = parse_gtf_attributes(row['attribute'])\n",
    "    #gene_gtf_df.at[index,'attribute'] = attributes_dict\n",
    "    for col in add_columns:\n",
    "        if col in attributes_dict.keys():\n",
    "            gene_gtf_df.loc[index,col] = attributes_dict[col]\n",
    "genes_meta_df.index.name =None\n",
    "gene_gtf_df = gene_gtf_df.set_index('gene_id').copy()\n",
    "gene_gtf_df.index.name =None\n",
    "gene_merged_meta_df = genes_meta_df.merge(gene_gtf_df, left_index=True, right_index=True, how='left')\n",
    "print(f\"Number of genes in metadata: {len(genes_meta_df)}\")\n",
    "print(f\"Number of genes in gtf: {len(gene_gtf_df)}\")\n",
    "gene_merged_meta_df.head()\n"
   ]
  },
  {
   "cell_type": "markdown",
   "id": "e86f7330",
   "metadata": {},
   "source": [
    "# Import meta data for the samples"
   ]
  },
  {
   "cell_type": "code",
   "execution_count": 8,
   "id": "6c44f69c",
   "metadata": {},
   "outputs": [
    {
     "name": "stderr",
     "output_type": "stream",
     "text": [
      "Loading data: 100%|██████████| 49/49.0 [00:00<00:00, 205.19it/s]\n"
     ]
    }
   ],
   "source": [
    "sample_meta_f = \"gtex_metadata/GTEx_Analysis_v10_Annotations_SampleAttributesDS.txt\"\n",
    "total_iterations = np.ceil(48232 / chunkSize)\n",
    "sample_meta_df = pd.concat(\n",
    "    [chunk for chunk in tqdm(pd.read_csv(sample_meta_f, sep=\"\\t\", chunksize=chunkSize), desc='Loading data', total=total_iterations)]\n",
    ")"
   ]
  },
  {
   "cell_type": "markdown",
   "id": "7730bb70",
   "metadata": {},
   "source": [
    "limit sample meta information to the samples used for the RNA-seq and relavent columns"
   ]
  },
  {
   "cell_type": "markdown",
   "id": "215d509e",
   "metadata": {},
   "source": [
    "I used excel to open `GTEx_Analysis_v10_Annotations_SampleAttributesDD.xlsx` to distinuish the columns of interest. The columns I used are:\n",
    "* SAMPID: Sample ID, GTEx Public Sample ID\n",
    "* SMTS: Tissue Type, area from which the tissue sample was taken. This is a parent value to SMTSD. (ie. Adipose Tissue, Adrenal Gland, Bladder, Blood, Blood Vessel, Bone Marrow, Brain, Breast, Cervix Uteri, Colon, Esophagus, Fallopian Tube, Heart, Kidney, Liver, Lung, Muscle, Nerve, Ovary, Pancreas, Pituitary, Prostate, Skin, Spleen, Stomach, Testis, Thyroid, Uterus, Vagina)\n",
    "* SMTSD: Tissue Type, more specific detail of tissue type\n"
   ]
  },
  {
   "cell_type": "code",
   "execution_count": 9,
   "id": "7f1b4af8",
   "metadata": {},
   "outputs": [
    {
     "name": "stdout",
     "output_type": "stream",
     "text": [
      "(19616, 2)\n"
     ]
    },
    {
     "data": {
      "text/html": [
       "<div>\n",
       "<style scoped>\n",
       "    .dataframe tbody tr th:only-of-type {\n",
       "        vertical-align: middle;\n",
       "    }\n",
       "\n",
       "    .dataframe tbody tr th {\n",
       "        vertical-align: top;\n",
       "    }\n",
       "\n",
       "    .dataframe thead th {\n",
       "        text-align: right;\n",
       "    }\n",
       "</style>\n",
       "<table border=\"1\" class=\"dataframe\">\n",
       "  <thead>\n",
       "    <tr style=\"text-align: right;\">\n",
       "      <th></th>\n",
       "      <th>TISSUE</th>\n",
       "      <th>TISSUE_DETAILED</th>\n",
       "    </tr>\n",
       "    <tr>\n",
       "      <th>SAMPID</th>\n",
       "      <th></th>\n",
       "      <th></th>\n",
       "    </tr>\n",
       "  </thead>\n",
       "  <tbody>\n",
       "    <tr>\n",
       "      <th>GTEX-1117F-0005-SM-HL9SH</th>\n",
       "      <td>Blood</td>\n",
       "      <td>Whole Blood</td>\n",
       "    </tr>\n",
       "    <tr>\n",
       "      <th>GTEX-1117F-0011-R10b-SM-GI4VE</th>\n",
       "      <td>Brain</td>\n",
       "      <td>Brain - Frontal Cortex (BA9)</td>\n",
       "    </tr>\n",
       "    <tr>\n",
       "      <th>GTEX-1117F-0011-R11b-SM-GIN8R</th>\n",
       "      <td>Brain</td>\n",
       "      <td>Brain - Cerebellar Hemisphere</td>\n",
       "    </tr>\n",
       "    <tr>\n",
       "      <th>GTEX-1117F-0011-R2b-SM-GI4VL</th>\n",
       "      <td>Brain</td>\n",
       "      <td>Brain - Substantia nigra</td>\n",
       "    </tr>\n",
       "    <tr>\n",
       "      <th>GTEX-1117F-0011-R3a-SM-GJ3PJ</th>\n",
       "      <td>Brain</td>\n",
       "      <td>Brain - Anterior cingulate cortex (BA24)</td>\n",
       "    </tr>\n",
       "  </tbody>\n",
       "</table>\n",
       "</div>"
      ],
      "text/plain": [
       "                              TISSUE                           TISSUE_DETAILED\n",
       "SAMPID                                                                        \n",
       "GTEX-1117F-0005-SM-HL9SH       Blood                               Whole Blood\n",
       "GTEX-1117F-0011-R10b-SM-GI4VE  Brain              Brain - Frontal Cortex (BA9)\n",
       "GTEX-1117F-0011-R11b-SM-GIN8R  Brain             Brain - Cerebellar Hemisphere\n",
       "GTEX-1117F-0011-R2b-SM-GI4VL   Brain                  Brain - Substantia nigra\n",
       "GTEX-1117F-0011-R3a-SM-GJ3PJ   Brain  Brain - Anterior cingulate cortex (BA24)"
      ]
     },
     "execution_count": 9,
     "metadata": {},
     "output_type": "execute_result"
    }
   ],
   "source": [
    "rnaseq_samp_meta_df = sample_meta_df.loc[sample_meta_df[\"SMAFRZE\"]==\"RNASEQ\",[\"SAMPID\", \"SMTS\", \"SMTSD\"]].copy()\n",
    "rnaseq_samp_meta_df = (\n",
    "    rnaseq_samp_meta_df.rename(\n",
    "        columns={\n",
    "            \"SMTS\": \"TISSUE\",\n",
    "            \"SMTSD\": \"TISSUE_DETAILED\"\n",
    "        }\n",
    "    )\n",
    ")\n",
    "rnaseq_samp_meta_df.set_index(\"SAMPID\", inplace=True)\n",
    "rnaseq_samp_meta_df = rnaseq_samp_meta_df.loc[genes_counts_df.columns.tolist(),:]\n",
    "print(rnaseq_samp_meta_df.shape)\n",
    "rnaseq_samp_meta_df.head()"
   ]
  },
  {
   "cell_type": "markdown",
   "id": "376031a5",
   "metadata": {},
   "source": []
  },
  {
   "cell_type": "markdown",
   "id": "b4ea9c53",
   "metadata": {},
   "source": [
    "# Initializing AnnData\n",
    "See the following tutorial at [https://anndata.readthedocs.io/en/latest/tutorials/notebooks/getting-started.html]\n",
    "\n",
    "\n",
    "Build an AnnData object with gene expression counts"
   ]
  },
  {
   "cell_type": "code",
   "execution_count": 10,
   "id": "4a5f1477",
   "metadata": {},
   "outputs": [
    {
     "data": {
      "text/html": [
       "<img src=\"https://raw.githubusercontent.com/scverse/anndata/main/docs/_static/img/anndata_schema.svg\" width=\"300\" height=\"300\"/>"
      ],
      "text/plain": [
       "<IPython.core.display.Image object>"
      ]
     },
     "execution_count": 10,
     "metadata": {},
     "output_type": "execute_result"
    }
   ],
   "source": [
    "from IPython.display import Image\n",
    "from IPython.core.display import HTML \n",
    "Image(url= \"https://raw.githubusercontent.com/scverse/anndata/main/docs/_static/img/anndata_schema.svg\"\n",
    "      , width=300, height=300)"
   ]
  },
  {
   "cell_type": "code",
   "execution_count": 11,
   "id": "cd2b0b36",
   "metadata": {},
   "outputs": [
    {
     "data": {
      "text/plain": [
       "AnnData object with n_obs × n_vars = 19616 × 59033"
      ]
     },
     "execution_count": 11,
     "metadata": {},
     "output_type": "execute_result"
    }
   ],
   "source": [
    "counts = csr_matrix(\n",
    "    genes_counts_df.transpose(), \n",
    "    dtype=np.float32)\n",
    "adata = ad.AnnData(counts)\n",
    "adata"
   ]
  },
  {
   "cell_type": "markdown",
   "id": "16205005",
   "metadata": {},
   "source": [
    "We see that AnnData provides a representation with summary statistics of the data. The initial data we passed are accessible as a sparse matrix using adata.X"
   ]
  },
  {
   "cell_type": "code",
   "execution_count": 12,
   "id": "3f827943",
   "metadata": {},
   "outputs": [
    {
     "data": {
      "text/plain": [
       "<Compressed Sparse Row sparse matrix of dtype 'float32'\n",
       "\twith 610491479 stored elements and shape (19616, 59033)>"
      ]
     },
     "execution_count": 12,
     "metadata": {},
     "output_type": "execute_result"
    }
   ],
   "source": [
    "adata.X"
   ]
  },
  {
   "cell_type": "markdown",
   "id": "e0b7f726",
   "metadata": {},
   "source": [
    "Now, we provide the index to both the `obs` and `var` axes using `.obs_names` (resp. `.var_names`).\n",
    "\n",
    "* `adata.var_names` = transcript or gene names\n",
    "* `adata.obs_names` = sample names"
   ]
  },
  {
   "cell_type": "code",
   "execution_count": 13,
   "id": "c43913ff-04b5-478b-bc11-39d9e466e225",
   "metadata": {},
   "outputs": [
    {
     "name": "stdout",
     "output_type": "stream",
     "text": [
      "Index(['ENSG00000198886.2', 'ENSG00000210176.1', 'ENSG00000210184.1',\n",
      "       'ENSG00000210191.1', 'ENSG00000198786.2', 'ENSG00000198695.2',\n",
      "       'ENSG00000210194.1', 'ENSG00000198727.2', 'ENSG00000210195.2'],\n",
      "      dtype='object')\n",
      "Index(['GTEX-ZZPU-1326-SM-5GZWS', 'GTEX-ZZPU-1426-SM-5GZZ6',\n",
      "       'GTEX-ZZPU-1826-SM-5E43L', 'GTEX-ZZPU-2126-SM-5EGIU',\n",
      "       'GTEX-ZZPU-2226-SM-5EGIV', 'GTEX-ZZPU-2326-SM-GOQYU',\n",
      "       'GTEX-ZZPU-2426-SM-5E44I', 'GTEX-ZZPU-2526-SM-GOQZ3',\n",
      "       'GTEX-ZZPU-2626-SM-5E45Y'],\n",
      "      dtype='object')\n"
     ]
    }
   ],
   "source": [
    "adata.var_names = genes_meta_df.index.tolist()\n",
    "adata.obs_names = genes_counts_df.columns.tolist()\n",
    "#print(adata.var_names[0:10])\n",
    "print(adata.var_names[-10:-1])\n",
    "#print(adata.obs_names[0:10])\n",
    "print(adata.obs_names[-10:-1])"
   ]
  },
  {
   "cell_type": "markdown",
   "id": "1cb85704",
   "metadata": {},
   "source": [
    "## Subsetting AnnData\n",
    "\n",
    "These index values can be used to subset the AnnData, which provides a view of the AnnData object. We can imagine this to be useful to subset the AnnData to particular cell types or gene modules of interest. The rules for subsetting AnnData are quite similar to that of a Pandas DataFrame. You can use values in the `obs/var_names`, boolean masks, or cell index integers."
   ]
  },
  {
   "cell_type": "code",
   "execution_count": 14,
   "id": "55514523-15bd-40db-a0a7-860072a4fc03",
   "metadata": {},
   "outputs": [
    {
     "data": {
      "text/plain": [
       "View of AnnData object with n_obs × n_vars = 2 × 2"
      ]
     },
     "execution_count": 14,
     "metadata": {},
     "output_type": "execute_result"
    }
   ],
   "source": [
    "adata[['GTEX-1117F-0226-SM-5GZZ7', 'GTEX-1117F-0011-R10b-SM-GI4VE'], ['ENSG00000223972.5', 'ENSG00000227232.5']]"
   ]
  },
  {
   "cell_type": "markdown",
   "id": "1f980fce",
   "metadata": {},
   "source": [
    "# Adding aligned metadata\n",
    "\n",
    "## Observation/Variable level\n",
    "\n",
    "So we have the core of our object and now we’d like to add metadata at both the observation and variable levels. This is pretty simple with AnnData, both `adata.obs` and `adata.var` are Pandas DataFrames."
   ]
  },
  {
   "cell_type": "code",
   "execution_count": 15,
   "id": "a08ca010",
   "metadata": {},
   "outputs": [
    {
     "data": {
      "text/html": [
       "<div>\n",
       "<style scoped>\n",
       "    .dataframe tbody tr th:only-of-type {\n",
       "        vertical-align: middle;\n",
       "    }\n",
       "\n",
       "    .dataframe tbody tr th {\n",
       "        vertical-align: top;\n",
       "    }\n",
       "\n",
       "    .dataframe thead th {\n",
       "        text-align: right;\n",
       "    }\n",
       "</style>\n",
       "<table border=\"1\" class=\"dataframe\">\n",
       "  <thead>\n",
       "    <tr style=\"text-align: right;\">\n",
       "      <th></th>\n",
       "      <th>TISSUE</th>\n",
       "      <th>TISSUE_DETAILED</th>\n",
       "    </tr>\n",
       "  </thead>\n",
       "  <tbody>\n",
       "    <tr>\n",
       "      <th>GTEX-1117F-0005-SM-HL9SH</th>\n",
       "      <td>Blood</td>\n",
       "      <td>Whole Blood</td>\n",
       "    </tr>\n",
       "    <tr>\n",
       "      <th>GTEX-1117F-0011-R10b-SM-GI4VE</th>\n",
       "      <td>Brain</td>\n",
       "      <td>Brain - Frontal Cortex (BA9)</td>\n",
       "    </tr>\n",
       "    <tr>\n",
       "      <th>GTEX-1117F-0011-R11b-SM-GIN8R</th>\n",
       "      <td>Brain</td>\n",
       "      <td>Brain - Cerebellar Hemisphere</td>\n",
       "    </tr>\n",
       "    <tr>\n",
       "      <th>GTEX-1117F-0011-R2b-SM-GI4VL</th>\n",
       "      <td>Brain</td>\n",
       "      <td>Brain - Substantia nigra</td>\n",
       "    </tr>\n",
       "    <tr>\n",
       "      <th>GTEX-1117F-0011-R3a-SM-GJ3PJ</th>\n",
       "      <td>Brain</td>\n",
       "      <td>Brain - Anterior cingulate cortex (BA24)</td>\n",
       "    </tr>\n",
       "    <tr>\n",
       "      <th>...</th>\n",
       "      <td>...</td>\n",
       "      <td>...</td>\n",
       "    </tr>\n",
       "    <tr>\n",
       "      <th>GTEX-ZZPU-2326-SM-GOQYU</th>\n",
       "      <td>Nerve</td>\n",
       "      <td>Nerve - Tibial</td>\n",
       "    </tr>\n",
       "    <tr>\n",
       "      <th>GTEX-ZZPU-2426-SM-5E44I</th>\n",
       "      <td>Blood Vessel</td>\n",
       "      <td>Artery - Tibial</td>\n",
       "    </tr>\n",
       "    <tr>\n",
       "      <th>GTEX-ZZPU-2526-SM-GOQZ3</th>\n",
       "      <td>Skin</td>\n",
       "      <td>Skin - Sun Exposed (Lower leg)</td>\n",
       "    </tr>\n",
       "    <tr>\n",
       "      <th>GTEX-ZZPU-2626-SM-5E45Y</th>\n",
       "      <td>Muscle</td>\n",
       "      <td>Muscle - Skeletal</td>\n",
       "    </tr>\n",
       "    <tr>\n",
       "      <th>GTEX-ZZPU-2726-SM-5NQ8O</th>\n",
       "      <td>Adipose Tissue</td>\n",
       "      <td>Adipose - Subcutaneous</td>\n",
       "    </tr>\n",
       "  </tbody>\n",
       "</table>\n",
       "<p>19616 rows × 2 columns</p>\n",
       "</div>"
      ],
      "text/plain": [
       "                                       TISSUE  \\\n",
       "GTEX-1117F-0005-SM-HL9SH                Blood   \n",
       "GTEX-1117F-0011-R10b-SM-GI4VE           Brain   \n",
       "GTEX-1117F-0011-R11b-SM-GIN8R           Brain   \n",
       "GTEX-1117F-0011-R2b-SM-GI4VL            Brain   \n",
       "GTEX-1117F-0011-R3a-SM-GJ3PJ            Brain   \n",
       "...                                       ...   \n",
       "GTEX-ZZPU-2326-SM-GOQYU                 Nerve   \n",
       "GTEX-ZZPU-2426-SM-5E44I          Blood Vessel   \n",
       "GTEX-ZZPU-2526-SM-GOQZ3                  Skin   \n",
       "GTEX-ZZPU-2626-SM-5E45Y                Muscle   \n",
       "GTEX-ZZPU-2726-SM-5NQ8O        Adipose Tissue   \n",
       "\n",
       "                                                        TISSUE_DETAILED  \n",
       "GTEX-1117F-0005-SM-HL9SH                                    Whole Blood  \n",
       "GTEX-1117F-0011-R10b-SM-GI4VE              Brain - Frontal Cortex (BA9)  \n",
       "GTEX-1117F-0011-R11b-SM-GIN8R             Brain - Cerebellar Hemisphere  \n",
       "GTEX-1117F-0011-R2b-SM-GI4VL                   Brain - Substantia nigra  \n",
       "GTEX-1117F-0011-R3a-SM-GJ3PJ   Brain - Anterior cingulate cortex (BA24)  \n",
       "...                                                                 ...  \n",
       "GTEX-ZZPU-2326-SM-GOQYU                                  Nerve - Tibial  \n",
       "GTEX-ZZPU-2426-SM-5E44I                                 Artery - Tibial  \n",
       "GTEX-ZZPU-2526-SM-GOQZ3                  Skin - Sun Exposed (Lower leg)  \n",
       "GTEX-ZZPU-2626-SM-5E45Y                               Muscle - Skeletal  \n",
       "GTEX-ZZPU-2726-SM-5NQ8O                          Adipose - Subcutaneous  \n",
       "\n",
       "[19616 rows x 2 columns]"
      ]
     },
     "execution_count": 15,
     "metadata": {},
     "output_type": "execute_result"
    }
   ],
   "source": [
    "## Categoricals are preferred for efficiency\n",
    "adata.obs[\"TISSUE\"] = pd.Categorical(rnaseq_samp_meta_df['TISSUE'])  \n",
    "adata.obs[\"TISSUE_DETAILED\"] = pd.Categorical(rnaseq_samp_meta_df['TISSUE_DETAILED'])  \n",
    "adata.obs"
   ]
  },
  {
   "cell_type": "code",
   "execution_count": 16,
   "id": "df52dcf4",
   "metadata": {},
   "outputs": [],
   "source": [
    "#if run_transcripts:\n",
    "#    adata.var[\"gene_id\"] = gene_merged_meta_df['gene_id']\n",
    "#else:\n",
    "#    adata.var[\"Description\"] = gene_merged_meta_df['Description']\n",
    "#    adata.var[\"transcript_id\"]\n",
    "adata.var = gene_merged_meta_df.copy()"
   ]
  },
  {
   "cell_type": "markdown",
   "id": "79d016c9",
   "metadata": {},
   "source": [
    "We can also see now that the AnnData representation has been updated:"
   ]
  },
  {
   "cell_type": "code",
   "execution_count": 17,
   "id": "3f257cbc",
   "metadata": {},
   "outputs": [
    {
     "data": {
      "text/plain": [
       "AnnData object with n_obs × n_vars = 19616 × 59033\n",
       "    obs: 'TISSUE', 'TISSUE_DETAILED'\n",
       "    var: 'Description', 'seqname', 'source', 'feature', 'start', 'end', 'score', 'strand', 'frame', 'attribute', 'transcript_id', 'gene_type', 'gene_name', 'transcript_type', 'transcript_name'"
      ]
     },
     "execution_count": 17,
     "metadata": {},
     "output_type": "execute_result"
    }
   ],
   "source": [
    "adata"
   ]
  },
  {
   "cell_type": "markdown",
   "id": "19077685",
   "metadata": {},
   "source": [
    "## Subsetting using metadata\n",
    "\n",
    "We can also subset the AnnData using `.obs` and `.var` attributes, which are Pandas DataFrames. This is useful to filter the AnnData object to only those samples or genes that are of interest. For example, we can filter the AnnData to only those samples that have a particular tissue type:"
   ]
  },
  {
   "cell_type": "code",
   "execution_count": 18,
   "id": "ef7a64d6",
   "metadata": {},
   "outputs": [
    {
     "data": {
      "text/plain": [
       "View of AnnData object with n_obs × n_vars = 1301 × 59033\n",
       "    obs: 'TISSUE', 'TISSUE_DETAILED'\n",
       "    var: 'Description', 'seqname', 'source', 'feature', 'start', 'end', 'score', 'strand', 'frame', 'attribute', 'transcript_id', 'gene_type', 'gene_name', 'transcript_type', 'transcript_name'"
      ]
     },
     "execution_count": 18,
     "metadata": {},
     "output_type": "execute_result"
    }
   ],
   "source": [
    "adata[adata.obs.TISSUE == \"Adipose Tissue\", :]"
   ]
  },
  {
   "cell_type": "markdown",
   "id": "bca4c0ad",
   "metadata": {},
   "source": [
    "We can also subset using the transcript or gene ID meta data. For example, we can filter the AnnData to only those genes that are on chromosome 12:"
   ]
  },
  {
   "cell_type": "code",
   "execution_count": 19,
   "id": "b1d38bd5",
   "metadata": {},
   "outputs": [
    {
     "data": {
      "text/plain": [
       "View of AnnData object with n_obs × n_vars = 19616 × 2953\n",
       "    obs: 'TISSUE', 'TISSUE_DETAILED'\n",
       "    var: 'Description', 'seqname', 'source', 'feature', 'start', 'end', 'score', 'strand', 'frame', 'attribute', 'transcript_id', 'gene_type', 'gene_name', 'transcript_type', 'transcript_name'"
      ]
     },
     "execution_count": 19,
     "metadata": {},
     "output_type": "execute_result"
    }
   ],
   "source": [
    "adata[:,adata.var.seqname == \"chr12\"]"
   ]
  },
  {
   "cell_type": "markdown",
   "id": "5da67b39",
   "metadata": {},
   "source": [
    "# Observation/variable-level matrices\n",
    "We might also have metadata at either level that has many dimensions to it, such as a UMAP embedding of the data. For this type of metadata, AnnData has the `.obsm/.varm` attributes. We use keys to identify the different matrices we insert. The restriction of `.obsm/.varm` are that `.obsm` matrices must length equal to the number of observations as `.n_obs` and `.varm` matrices must length equal to .n_vars. They can each independently have different number of dimensions.\n",
    "\n",
    "In the code below we make a randomly generated matrix that we can interpret as a UMAP embedding of the data we’d like to store, as well as some random gene-level metadata. However, this code is within a False conditional so it will not run because we do not have any UMAP embeddings or gene-level metadata to add to the AnnData object."
   ]
  },
  {
   "cell_type": "code",
   "execution_count": 20,
   "id": "dc642b74",
   "metadata": {},
   "outputs": [],
   "source": [
    "if 1==0:\n",
    "    # for each cell add that it has 2 UMAP coordinates in the table \"X_umap\"\n",
    "    # in `adata.obsm` (obsm = obs matrix)\n",
    "    adata.obsm[\"X_umap\"] = np.random.normal(0, 1, size=(adata.n_obs, 2)) \n",
    "\n",
    "    # for each transcript add 5 features of interest in the table \"gene_stuff\"\n",
    "    # in `adata.varm` (varm = var matrix)\n",
    "    #adata.varm[\"gene_stuff\"] = np.random.normal(0, 1, size=(adata.n_vars, 5))\n",
    "    gene_lengths_df = pd.read_csv(\"salmon.merged.gene_lengths.tsv\", sep=\"\\t\", index_col=0) \n",
    "    adata.varm[\"gene_lengths\"] = gene_lengths_df.loc[:,sample_sheet_df['sample'].tolist()]\n",
    "    adata.obsm"
   ]
  },
  {
   "cell_type": "markdown",
   "id": "d611600a",
   "metadata": {},
   "source": [
    "Again, the AnnData representation is updated."
   ]
  },
  {
   "cell_type": "code",
   "execution_count": 21,
   "id": "3608d963",
   "metadata": {},
   "outputs": [
    {
     "data": {
      "text/plain": [
       "AnnData object with n_obs × n_vars = 19616 × 59033\n",
       "    obs: 'TISSUE', 'TISSUE_DETAILED'\n",
       "    var: 'Description', 'seqname', 'source', 'feature', 'start', 'end', 'score', 'strand', 'frame', 'attribute', 'transcript_id', 'gene_type', 'gene_name', 'transcript_type', 'transcript_name'"
      ]
     },
     "execution_count": 21,
     "metadata": {},
     "output_type": "execute_result"
    }
   ],
   "source": [
    "adata"
   ]
  },
  {
   "cell_type": "markdown",
   "id": "c4fd8473",
   "metadata": {},
   "source": [
    "A few more notes about .obsm/.varm\n",
    "\n",
    "The “array-like” metadata can originate from a Pandas DataFrame, scipy sparse matrix, or numpy dense array.\n",
    "\n",
    "When using scanpy, their values (columns) are not easily plotted, where instead items from .obs are easily plotted on, e.g., UMAP plots.\n",
    "\n"
   ]
  },
  {
   "cell_type": "markdown",
   "id": "5e4d67e8",
   "metadata": {},
   "source": [
    "# Unstructured metadata\n",
    "AnnData has .uns, which allows for any unstructured metadata. This can be anything, like a list or a dictionary with some general information that was useful in the analysis of our data."
   ]
  },
  {
   "cell_type": "code",
   "execution_count": 22,
   "id": "3d895760",
   "metadata": {},
   "outputs": [],
   "source": [
    "adata.uns[\"Release\"] = \"GTEx v10\"\n",
    "adata.uns[\"Type\"] = \"RNASeq Bulk Tissue Expression\"\n",
    "adata.uns[\"Name\"] = genes_f\n",
    "adata.uns[\"Description\"] = \"Gene Expression Transcripts Per Million (TPM) from RNASeQCv2.4.2.\""
   ]
  },
  {
   "cell_type": "markdown",
   "id": "8815fe14",
   "metadata": {},
   "source": [
    "# Layers\n",
    "Finally, we may have different forms of our original core data, perhaps one that is normalized and one that is not. These can be stored in different layers in AnnData. For example, let’s log transform the original data and store it in a layer:"
   ]
  },
  {
   "cell_type": "code",
   "execution_count": 23,
   "id": "21e89087",
   "metadata": {},
   "outputs": [
    {
     "data": {
      "text/plain": [
       "AnnData object with n_obs × n_vars = 19616 × 59033\n",
       "    obs: 'TISSUE', 'TISSUE_DETAILED'\n",
       "    var: 'Description', 'seqname', 'source', 'feature', 'start', 'end', 'score', 'strand', 'frame', 'attribute', 'transcript_id', 'gene_type', 'gene_name', 'transcript_type', 'transcript_name'\n",
       "    uns: 'Release', 'Type', 'Name', 'Description'\n",
       "    layers: 'log_transformed'"
      ]
     },
     "execution_count": 23,
     "metadata": {},
     "output_type": "execute_result"
    }
   ],
   "source": [
    "adata.layers[\"log_transformed\"] = np.log1p(adata.X)\n",
    "adata"
   ]
  },
  {
   "cell_type": "markdown",
   "id": "04d1b54e",
   "metadata": {},
   "source": [
    "We may also want to have layers for the gene read counts by tissue."
   ]
  },
  {
   "cell_type": "code",
   "execution_count": 24,
   "id": "f92ddba1",
   "metadata": {},
   "outputs": [],
   "source": [
    "if 1==0:\n",
    "    gene_tpm_df = pd.read_csv(\"salmon.merged.gene_tpm.tsv\", sep=\"\\t\", index_col=0) \n",
    "    adata.layers[\"gene_tpm\"] = csr_matrix(\n",
    "        gene_tpm_df.loc[:,sample_sheet_df['sample'].tolist()].transpose(), \n",
    "        dtype=np.float32)"
   ]
  },
  {
   "cell_type": "markdown",
   "id": "571d4ea2",
   "metadata": {},
   "source": [
    "# Conversion to DataFrames\n",
    "We can also ask AnnData to return us a DataFrame from one of the layers:"
   ]
  },
  {
   "cell_type": "code",
   "execution_count": 25,
   "id": "cdc9342c",
   "metadata": {},
   "outputs": [
    {
     "data": {
      "text/html": [
       "<div>\n",
       "<style scoped>\n",
       "    .dataframe tbody tr th:only-of-type {\n",
       "        vertical-align: middle;\n",
       "    }\n",
       "\n",
       "    .dataframe tbody tr th {\n",
       "        vertical-align: top;\n",
       "    }\n",
       "\n",
       "    .dataframe thead th {\n",
       "        text-align: right;\n",
       "    }\n",
       "</style>\n",
       "<table border=\"1\" class=\"dataframe\">\n",
       "  <thead>\n",
       "    <tr style=\"text-align: right;\">\n",
       "      <th></th>\n",
       "      <th>ENSG00000223972.5</th>\n",
       "      <th>ENSG00000227232.5</th>\n",
       "      <th>ENSG00000278267.1</th>\n",
       "      <th>ENSG00000243485.5</th>\n",
       "      <th>ENSG00000237613.2</th>\n",
       "      <th>ENSG00000268020.3</th>\n",
       "      <th>ENSG00000240361.2</th>\n",
       "      <th>ENSG00000186092.7</th>\n",
       "      <th>ENSG00000238009.6</th>\n",
       "      <th>ENSG00000233750.3</th>\n",
       "      <th>...</th>\n",
       "      <th>ENSG00000198886.2</th>\n",
       "      <th>ENSG00000210176.1</th>\n",
       "      <th>ENSG00000210184.1</th>\n",
       "      <th>ENSG00000210191.1</th>\n",
       "      <th>ENSG00000198786.2</th>\n",
       "      <th>ENSG00000198695.2</th>\n",
       "      <th>ENSG00000210194.1</th>\n",
       "      <th>ENSG00000198727.2</th>\n",
       "      <th>ENSG00000210195.2</th>\n",
       "      <th>ENSG00000210196.2</th>\n",
       "    </tr>\n",
       "  </thead>\n",
       "  <tbody>\n",
       "    <tr>\n",
       "      <th>GTEX-1117F-0005-SM-HL9SH</th>\n",
       "      <td>0.000000</td>\n",
       "      <td>0.847339</td>\n",
       "      <td>0.0</td>\n",
       "      <td>0.000000</td>\n",
       "      <td>0.000000</td>\n",
       "      <td>0.000000</td>\n",
       "      <td>0.022926</td>\n",
       "      <td>0.000000</td>\n",
       "      <td>0.031386</td>\n",
       "      <td>0.037188</td>\n",
       "      <td>...</td>\n",
       "      <td>6.737683</td>\n",
       "      <td>0.000000</td>\n",
       "      <td>0.000000</td>\n",
       "      <td>0.000000</td>\n",
       "      <td>4.639427</td>\n",
       "      <td>4.572170</td>\n",
       "      <td>0.000000</td>\n",
       "      <td>6.067395</td>\n",
       "      <td>0.000000</td>\n",
       "      <td>0.000000</td>\n",
       "    </tr>\n",
       "    <tr>\n",
       "      <th>GTEX-1117F-0011-R10b-SM-GI4VE</th>\n",
       "      <td>0.000000</td>\n",
       "      <td>1.521542</td>\n",
       "      <td>0.0</td>\n",
       "      <td>0.089681</td>\n",
       "      <td>0.000000</td>\n",
       "      <td>0.000000</td>\n",
       "      <td>0.028326</td>\n",
       "      <td>0.045503</td>\n",
       "      <td>0.038741</td>\n",
       "      <td>0.057018</td>\n",
       "      <td>...</td>\n",
       "      <td>10.815031</td>\n",
       "      <td>0.778210</td>\n",
       "      <td>1.322910</td>\n",
       "      <td>0.000000</td>\n",
       "      <td>8.897326</td>\n",
       "      <td>8.474194</td>\n",
       "      <td>2.011786</td>\n",
       "      <td>10.263868</td>\n",
       "      <td>1.405545</td>\n",
       "      <td>0.786132</td>\n",
       "    </tr>\n",
       "    <tr>\n",
       "      <th>GTEX-1117F-0011-R11b-SM-GIN8R</th>\n",
       "      <td>0.000000</td>\n",
       "      <td>2.414958</td>\n",
       "      <td>0.0</td>\n",
       "      <td>0.033619</td>\n",
       "      <td>0.000000</td>\n",
       "      <td>0.068124</td>\n",
       "      <td>0.060926</td>\n",
       "      <td>0.076191</td>\n",
       "      <td>0.014291</td>\n",
       "      <td>0.016960</td>\n",
       "      <td>...</td>\n",
       "      <td>11.073470</td>\n",
       "      <td>1.146005</td>\n",
       "      <td>0.000000</td>\n",
       "      <td>1.558837</td>\n",
       "      <td>9.218863</td>\n",
       "      <td>8.879225</td>\n",
       "      <td>2.899486</td>\n",
       "      <td>10.560985</td>\n",
       "      <td>1.702245</td>\n",
       "      <td>2.128507</td>\n",
       "    </tr>\n",
       "    <tr>\n",
       "      <th>GTEX-1117F-0011-R2b-SM-GI4VL</th>\n",
       "      <td>0.000000</td>\n",
       "      <td>1.377884</td>\n",
       "      <td>0.0</td>\n",
       "      <td>0.000000</td>\n",
       "      <td>0.017506</td>\n",
       "      <td>0.000000</td>\n",
       "      <td>0.044661</td>\n",
       "      <td>0.063710</td>\n",
       "      <td>0.000000</td>\n",
       "      <td>0.000000</td>\n",
       "      <td>...</td>\n",
       "      <td>11.012090</td>\n",
       "      <td>1.415831</td>\n",
       "      <td>1.038278</td>\n",
       "      <td>1.316092</td>\n",
       "      <td>9.279017</td>\n",
       "      <td>8.969584</td>\n",
       "      <td>2.790398</td>\n",
       "      <td>10.505116</td>\n",
       "      <td>2.518986</td>\n",
       "      <td>1.992190</td>\n",
       "    </tr>\n",
       "    <tr>\n",
       "      <th>GTEX-1117F-0011-R3a-SM-GJ3PJ</th>\n",
       "      <td>0.000000</td>\n",
       "      <td>1.543896</td>\n",
       "      <td>0.0</td>\n",
       "      <td>0.000000</td>\n",
       "      <td>0.000000</td>\n",
       "      <td>0.000000</td>\n",
       "      <td>0.060280</td>\n",
       "      <td>0.033008</td>\n",
       "      <td>0.000000</td>\n",
       "      <td>0.016777</td>\n",
       "      <td>...</td>\n",
       "      <td>10.841954</td>\n",
       "      <td>0.821233</td>\n",
       "      <td>0.689513</td>\n",
       "      <td>1.119196</td>\n",
       "      <td>8.869345</td>\n",
       "      <td>8.636981</td>\n",
       "      <td>2.588410</td>\n",
       "      <td>10.185699</td>\n",
       "      <td>1.168959</td>\n",
       "      <td>1.819392</td>\n",
       "    </tr>\n",
       "    <tr>\n",
       "      <th>...</th>\n",
       "      <td>...</td>\n",
       "      <td>...</td>\n",
       "      <td>...</td>\n",
       "      <td>...</td>\n",
       "      <td>...</td>\n",
       "      <td>...</td>\n",
       "      <td>...</td>\n",
       "      <td>...</td>\n",
       "      <td>...</td>\n",
       "      <td>...</td>\n",
       "      <td>...</td>\n",
       "      <td>...</td>\n",
       "      <td>...</td>\n",
       "      <td>...</td>\n",
       "      <td>...</td>\n",
       "      <td>...</td>\n",
       "      <td>...</td>\n",
       "      <td>...</td>\n",
       "      <td>...</td>\n",
       "      <td>...</td>\n",
       "      <td>...</td>\n",
       "    </tr>\n",
       "    <tr>\n",
       "      <th>GTEX-ZZPU-2326-SM-GOQYU</th>\n",
       "      <td>0.000000</td>\n",
       "      <td>1.218987</td>\n",
       "      <td>0.0</td>\n",
       "      <td>0.040252</td>\n",
       "      <td>0.000000</td>\n",
       "      <td>0.000000</td>\n",
       "      <td>0.024844</td>\n",
       "      <td>0.039950</td>\n",
       "      <td>0.098713</td>\n",
       "      <td>0.088438</td>\n",
       "      <td>...</td>\n",
       "      <td>10.381987</td>\n",
       "      <td>0.415739</td>\n",
       "      <td>0.000000</td>\n",
       "      <td>0.406112</td>\n",
       "      <td>8.991590</td>\n",
       "      <td>9.087047</td>\n",
       "      <td>3.585001</td>\n",
       "      <td>10.101030</td>\n",
       "      <td>0.431083</td>\n",
       "      <td>1.128912</td>\n",
       "    </tr>\n",
       "    <tr>\n",
       "      <th>GTEX-ZZPU-2426-SM-5E44I</th>\n",
       "      <td>0.000000</td>\n",
       "      <td>1.357406</td>\n",
       "      <td>0.0</td>\n",
       "      <td>0.051950</td>\n",
       "      <td>0.000000</td>\n",
       "      <td>0.000000</td>\n",
       "      <td>0.063271</td>\n",
       "      <td>0.116421</td>\n",
       "      <td>0.184021</td>\n",
       "      <td>0.051979</td>\n",
       "      <td>...</td>\n",
       "      <td>9.739143</td>\n",
       "      <td>0.512368</td>\n",
       "      <td>0.578112</td>\n",
       "      <td>0.000000</td>\n",
       "      <td>9.138722</td>\n",
       "      <td>9.708737</td>\n",
       "      <td>3.909109</td>\n",
       "      <td>9.882345</td>\n",
       "      <td>0.000000</td>\n",
       "      <td>1.312737</td>\n",
       "    </tr>\n",
       "    <tr>\n",
       "      <th>GTEX-ZZPU-2526-SM-GOQZ3</th>\n",
       "      <td>0.017635</td>\n",
       "      <td>1.807602</td>\n",
       "      <td>0.0</td>\n",
       "      <td>0.000000</td>\n",
       "      <td>0.000000</td>\n",
       "      <td>0.104232</td>\n",
       "      <td>0.160444</td>\n",
       "      <td>0.011681</td>\n",
       "      <td>0.139361</td>\n",
       "      <td>0.085123</td>\n",
       "      <td>...</td>\n",
       "      <td>10.216205</td>\n",
       "      <td>0.368662</td>\n",
       "      <td>0.419604</td>\n",
       "      <td>0.359939</td>\n",
       "      <td>9.231632</td>\n",
       "      <td>9.371932</td>\n",
       "      <td>3.716541</td>\n",
       "      <td>10.141315</td>\n",
       "      <td>1.812655</td>\n",
       "      <td>1.032978</td>\n",
       "    </tr>\n",
       "    <tr>\n",
       "      <th>GTEX-ZZPU-2626-SM-5E45Y</th>\n",
       "      <td>0.020019</td>\n",
       "      <td>0.611104</td>\n",
       "      <td>0.0</td>\n",
       "      <td>0.000000</td>\n",
       "      <td>0.000000</td>\n",
       "      <td>0.040779</td>\n",
       "      <td>0.024425</td>\n",
       "      <td>0.204595</td>\n",
       "      <td>0.016854</td>\n",
       "      <td>0.000000</td>\n",
       "      <td>...</td>\n",
       "      <td>10.624352</td>\n",
       "      <td>0.409922</td>\n",
       "      <td>1.215011</td>\n",
       "      <td>0.000000</td>\n",
       "      <td>9.628077</td>\n",
       "      <td>9.882213</td>\n",
       "      <td>4.020404</td>\n",
       "      <td>10.517957</td>\n",
       "      <td>1.655911</td>\n",
       "      <td>1.631827</td>\n",
       "    </tr>\n",
       "    <tr>\n",
       "      <th>GTEX-ZZPU-2726-SM-5NQ8O</th>\n",
       "      <td>0.025388</td>\n",
       "      <td>1.166121</td>\n",
       "      <td>0.0</td>\n",
       "      <td>0.000000</td>\n",
       "      <td>0.000000</td>\n",
       "      <td>0.051574</td>\n",
       "      <td>0.030958</td>\n",
       "      <td>0.016839</td>\n",
       "      <td>0.140885</td>\n",
       "      <td>0.109371</td>\n",
       "      <td>...</td>\n",
       "      <td>10.322155</td>\n",
       "      <td>0.000000</td>\n",
       "      <td>0.000000</td>\n",
       "      <td>0.486229</td>\n",
       "      <td>9.047757</td>\n",
       "      <td>9.208659</td>\n",
       "      <td>3.443081</td>\n",
       "      <td>10.244112</td>\n",
       "      <td>1.306829</td>\n",
       "      <td>0.503074</td>\n",
       "    </tr>\n",
       "  </tbody>\n",
       "</table>\n",
       "<p>19616 rows × 59033 columns</p>\n",
       "</div>"
      ],
      "text/plain": [
       "                               ENSG00000223972.5  ENSG00000227232.5  \\\n",
       "GTEX-1117F-0005-SM-HL9SH                0.000000           0.847339   \n",
       "GTEX-1117F-0011-R10b-SM-GI4VE           0.000000           1.521542   \n",
       "GTEX-1117F-0011-R11b-SM-GIN8R           0.000000           2.414958   \n",
       "GTEX-1117F-0011-R2b-SM-GI4VL            0.000000           1.377884   \n",
       "GTEX-1117F-0011-R3a-SM-GJ3PJ            0.000000           1.543896   \n",
       "...                                          ...                ...   \n",
       "GTEX-ZZPU-2326-SM-GOQYU                 0.000000           1.218987   \n",
       "GTEX-ZZPU-2426-SM-5E44I                 0.000000           1.357406   \n",
       "GTEX-ZZPU-2526-SM-GOQZ3                 0.017635           1.807602   \n",
       "GTEX-ZZPU-2626-SM-5E45Y                 0.020019           0.611104   \n",
       "GTEX-ZZPU-2726-SM-5NQ8O                 0.025388           1.166121   \n",
       "\n",
       "                               ENSG00000278267.1  ENSG00000243485.5  \\\n",
       "GTEX-1117F-0005-SM-HL9SH                     0.0           0.000000   \n",
       "GTEX-1117F-0011-R10b-SM-GI4VE                0.0           0.089681   \n",
       "GTEX-1117F-0011-R11b-SM-GIN8R                0.0           0.033619   \n",
       "GTEX-1117F-0011-R2b-SM-GI4VL                 0.0           0.000000   \n",
       "GTEX-1117F-0011-R3a-SM-GJ3PJ                 0.0           0.000000   \n",
       "...                                          ...                ...   \n",
       "GTEX-ZZPU-2326-SM-GOQYU                      0.0           0.040252   \n",
       "GTEX-ZZPU-2426-SM-5E44I                      0.0           0.051950   \n",
       "GTEX-ZZPU-2526-SM-GOQZ3                      0.0           0.000000   \n",
       "GTEX-ZZPU-2626-SM-5E45Y                      0.0           0.000000   \n",
       "GTEX-ZZPU-2726-SM-5NQ8O                      0.0           0.000000   \n",
       "\n",
       "                               ENSG00000237613.2  ENSG00000268020.3  \\\n",
       "GTEX-1117F-0005-SM-HL9SH                0.000000           0.000000   \n",
       "GTEX-1117F-0011-R10b-SM-GI4VE           0.000000           0.000000   \n",
       "GTEX-1117F-0011-R11b-SM-GIN8R           0.000000           0.068124   \n",
       "GTEX-1117F-0011-R2b-SM-GI4VL            0.017506           0.000000   \n",
       "GTEX-1117F-0011-R3a-SM-GJ3PJ            0.000000           0.000000   \n",
       "...                                          ...                ...   \n",
       "GTEX-ZZPU-2326-SM-GOQYU                 0.000000           0.000000   \n",
       "GTEX-ZZPU-2426-SM-5E44I                 0.000000           0.000000   \n",
       "GTEX-ZZPU-2526-SM-GOQZ3                 0.000000           0.104232   \n",
       "GTEX-ZZPU-2626-SM-5E45Y                 0.000000           0.040779   \n",
       "GTEX-ZZPU-2726-SM-5NQ8O                 0.000000           0.051574   \n",
       "\n",
       "                               ENSG00000240361.2  ENSG00000186092.7  \\\n",
       "GTEX-1117F-0005-SM-HL9SH                0.022926           0.000000   \n",
       "GTEX-1117F-0011-R10b-SM-GI4VE           0.028326           0.045503   \n",
       "GTEX-1117F-0011-R11b-SM-GIN8R           0.060926           0.076191   \n",
       "GTEX-1117F-0011-R2b-SM-GI4VL            0.044661           0.063710   \n",
       "GTEX-1117F-0011-R3a-SM-GJ3PJ            0.060280           0.033008   \n",
       "...                                          ...                ...   \n",
       "GTEX-ZZPU-2326-SM-GOQYU                 0.024844           0.039950   \n",
       "GTEX-ZZPU-2426-SM-5E44I                 0.063271           0.116421   \n",
       "GTEX-ZZPU-2526-SM-GOQZ3                 0.160444           0.011681   \n",
       "GTEX-ZZPU-2626-SM-5E45Y                 0.024425           0.204595   \n",
       "GTEX-ZZPU-2726-SM-5NQ8O                 0.030958           0.016839   \n",
       "\n",
       "                               ENSG00000238009.6  ENSG00000233750.3  ...  \\\n",
       "GTEX-1117F-0005-SM-HL9SH                0.031386           0.037188  ...   \n",
       "GTEX-1117F-0011-R10b-SM-GI4VE           0.038741           0.057018  ...   \n",
       "GTEX-1117F-0011-R11b-SM-GIN8R           0.014291           0.016960  ...   \n",
       "GTEX-1117F-0011-R2b-SM-GI4VL            0.000000           0.000000  ...   \n",
       "GTEX-1117F-0011-R3a-SM-GJ3PJ            0.000000           0.016777  ...   \n",
       "...                                          ...                ...  ...   \n",
       "GTEX-ZZPU-2326-SM-GOQYU                 0.098713           0.088438  ...   \n",
       "GTEX-ZZPU-2426-SM-5E44I                 0.184021           0.051979  ...   \n",
       "GTEX-ZZPU-2526-SM-GOQZ3                 0.139361           0.085123  ...   \n",
       "GTEX-ZZPU-2626-SM-5E45Y                 0.016854           0.000000  ...   \n",
       "GTEX-ZZPU-2726-SM-5NQ8O                 0.140885           0.109371  ...   \n",
       "\n",
       "                               ENSG00000198886.2  ENSG00000210176.1  \\\n",
       "GTEX-1117F-0005-SM-HL9SH                6.737683           0.000000   \n",
       "GTEX-1117F-0011-R10b-SM-GI4VE          10.815031           0.778210   \n",
       "GTEX-1117F-0011-R11b-SM-GIN8R          11.073470           1.146005   \n",
       "GTEX-1117F-0011-R2b-SM-GI4VL           11.012090           1.415831   \n",
       "GTEX-1117F-0011-R3a-SM-GJ3PJ           10.841954           0.821233   \n",
       "...                                          ...                ...   \n",
       "GTEX-ZZPU-2326-SM-GOQYU                10.381987           0.415739   \n",
       "GTEX-ZZPU-2426-SM-5E44I                 9.739143           0.512368   \n",
       "GTEX-ZZPU-2526-SM-GOQZ3                10.216205           0.368662   \n",
       "GTEX-ZZPU-2626-SM-5E45Y                10.624352           0.409922   \n",
       "GTEX-ZZPU-2726-SM-5NQ8O                10.322155           0.000000   \n",
       "\n",
       "                               ENSG00000210184.1  ENSG00000210191.1  \\\n",
       "GTEX-1117F-0005-SM-HL9SH                0.000000           0.000000   \n",
       "GTEX-1117F-0011-R10b-SM-GI4VE           1.322910           0.000000   \n",
       "GTEX-1117F-0011-R11b-SM-GIN8R           0.000000           1.558837   \n",
       "GTEX-1117F-0011-R2b-SM-GI4VL            1.038278           1.316092   \n",
       "GTEX-1117F-0011-R3a-SM-GJ3PJ            0.689513           1.119196   \n",
       "...                                          ...                ...   \n",
       "GTEX-ZZPU-2326-SM-GOQYU                 0.000000           0.406112   \n",
       "GTEX-ZZPU-2426-SM-5E44I                 0.578112           0.000000   \n",
       "GTEX-ZZPU-2526-SM-GOQZ3                 0.419604           0.359939   \n",
       "GTEX-ZZPU-2626-SM-5E45Y                 1.215011           0.000000   \n",
       "GTEX-ZZPU-2726-SM-5NQ8O                 0.000000           0.486229   \n",
       "\n",
       "                               ENSG00000198786.2  ENSG00000198695.2  \\\n",
       "GTEX-1117F-0005-SM-HL9SH                4.639427           4.572170   \n",
       "GTEX-1117F-0011-R10b-SM-GI4VE           8.897326           8.474194   \n",
       "GTEX-1117F-0011-R11b-SM-GIN8R           9.218863           8.879225   \n",
       "GTEX-1117F-0011-R2b-SM-GI4VL            9.279017           8.969584   \n",
       "GTEX-1117F-0011-R3a-SM-GJ3PJ            8.869345           8.636981   \n",
       "...                                          ...                ...   \n",
       "GTEX-ZZPU-2326-SM-GOQYU                 8.991590           9.087047   \n",
       "GTEX-ZZPU-2426-SM-5E44I                 9.138722           9.708737   \n",
       "GTEX-ZZPU-2526-SM-GOQZ3                 9.231632           9.371932   \n",
       "GTEX-ZZPU-2626-SM-5E45Y                 9.628077           9.882213   \n",
       "GTEX-ZZPU-2726-SM-5NQ8O                 9.047757           9.208659   \n",
       "\n",
       "                               ENSG00000210194.1  ENSG00000198727.2  \\\n",
       "GTEX-1117F-0005-SM-HL9SH                0.000000           6.067395   \n",
       "GTEX-1117F-0011-R10b-SM-GI4VE           2.011786          10.263868   \n",
       "GTEX-1117F-0011-R11b-SM-GIN8R           2.899486          10.560985   \n",
       "GTEX-1117F-0011-R2b-SM-GI4VL            2.790398          10.505116   \n",
       "GTEX-1117F-0011-R3a-SM-GJ3PJ            2.588410          10.185699   \n",
       "...                                          ...                ...   \n",
       "GTEX-ZZPU-2326-SM-GOQYU                 3.585001          10.101030   \n",
       "GTEX-ZZPU-2426-SM-5E44I                 3.909109           9.882345   \n",
       "GTEX-ZZPU-2526-SM-GOQZ3                 3.716541          10.141315   \n",
       "GTEX-ZZPU-2626-SM-5E45Y                 4.020404          10.517957   \n",
       "GTEX-ZZPU-2726-SM-5NQ8O                 3.443081          10.244112   \n",
       "\n",
       "                               ENSG00000210195.2  ENSG00000210196.2  \n",
       "GTEX-1117F-0005-SM-HL9SH                0.000000           0.000000  \n",
       "GTEX-1117F-0011-R10b-SM-GI4VE           1.405545           0.786132  \n",
       "GTEX-1117F-0011-R11b-SM-GIN8R           1.702245           2.128507  \n",
       "GTEX-1117F-0011-R2b-SM-GI4VL            2.518986           1.992190  \n",
       "GTEX-1117F-0011-R3a-SM-GJ3PJ            1.168959           1.819392  \n",
       "...                                          ...                ...  \n",
       "GTEX-ZZPU-2326-SM-GOQYU                 0.431083           1.128912  \n",
       "GTEX-ZZPU-2426-SM-5E44I                 0.000000           1.312737  \n",
       "GTEX-ZZPU-2526-SM-GOQZ3                 1.812655           1.032978  \n",
       "GTEX-ZZPU-2626-SM-5E45Y                 1.655911           1.631827  \n",
       "GTEX-ZZPU-2726-SM-5NQ8O                 1.306829           0.503074  \n",
       "\n",
       "[19616 rows x 59033 columns]"
      ]
     },
     "execution_count": 25,
     "metadata": {},
     "output_type": "execute_result"
    }
   ],
   "source": [
    "adata.to_df(layer=\"log_transformed\")"
   ]
  },
  {
   "cell_type": "markdown",
   "id": "e6e840be",
   "metadata": {},
   "source": [
    "We see that the `.obs_names/.var_names` are used in the creation of this Pandas object."
   ]
  },
  {
   "cell_type": "markdown",
   "id": "544c12a6",
   "metadata": {},
   "source": [
    "# Writing the results to disk\n",
    "`AnnData` comes with its own persistent HDF5-based file format: h5ad. If string columns with small number of categories aren’t yet categoricals, `AnnData` will auto-transform to categoricals."
   ]
  },
  {
   "cell_type": "code",
   "execution_count": null,
   "id": "e981bb39",
   "metadata": {},
   "outputs": [],
   "source": [
    "adata.write('GTEx_Analysis_v10_RNASeQCv2.4.2_gene_tpm.h5ad', compression=\"gzip\")"
   ]
  },
  {
   "cell_type": "code",
   "execution_count": 29,
   "id": "5aa806ff",
   "metadata": {},
   "outputs": [
    {
     "name": "stdout",
     "output_type": "stream",
     "text": [
      "X                        Group\n",
      "layers                   Group\n",
      "obs                      Group\n",
      "obsm                     Group\n",
      "obsp                     Group\n",
      "uns                      Group\n",
      "var                      Group\n",
      "varm                     Group\n",
      "varp                     Group\n"
     ]
    }
   ],
   "source": [
    "!h5ls 'GTEx_Analysis_v10_RNASeQCv2.4.2_gene_tpm.h5ad'"
   ]
  },
  {
   "cell_type": "code",
   "execution_count": 28,
   "id": "301bff19",
   "metadata": {},
   "outputs": [],
   "source": [
    "import zarr\n",
    "adata.write_zarr('GTEx_Analysis_v10_RNASeQCv2.4.2_gene_tpm.zarr')\n"
   ]
  }
 ],
 "metadata": {
  "kernelspec": {
   "display_name": "default",
   "language": "python",
   "name": "python3"
  },
  "language_info": {
   "codemirror_mode": {
    "name": "ipython",
    "version": 3
   },
   "file_extension": ".py",
   "mimetype": "text/x-python",
   "name": "python",
   "nbconvert_exporter": "python",
   "pygments_lexer": "ipython3",
   "version": "3.13.3"
  }
 },
 "nbformat": 4,
 "nbformat_minor": 5
}
